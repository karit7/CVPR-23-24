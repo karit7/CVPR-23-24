{
 "cells": [
  {
   "cell_type": "markdown",
   "id": "d2c4dba9-30fa-47a3-a65a-575b681c276d",
   "metadata": {},
   "source": [
    "#List Operations"
   ]
  },
  {
   "cell_type": "code",
   "execution_count": 9,
   "id": "950ad4e0-1d46-4cf3-ad4a-6b1e45c68583",
   "metadata": {},
   "outputs": [
    {
     "name": "stdout",
     "output_type": "stream",
     "text": [
      "Original List: [1, 2, 3, 4, 5, 6, 7, 8, 9, 10]\n",
      "Squared List: [1, 4, 9, 16, 25, 36, 49, 64, 81, 100]\n",
      "Sum of Elements: 385\n"
     ]
    }
   ],
   "source": [
    "# Step 1: Create a list of integers containing numbers from 1 to 10.\n",
    "original_list = list(range(1, 11))\n",
    "\n",
    "# Step 2: Append the square of each number to the list.\n",
    "squared_list = [num ** 2 for num in original_list]\n",
    "\n",
    "# Step 3: Find and print the sum of all elements in the list.\n",
    "sum_of_elements = sum(squared_list)\n",
    "\n",
    "# Display the results\n",
    "print(\"Original List:\", original_list)\n",
    "print(\"Squared List:\", squared_list)\n",
    "print(\"Sum of Elements:\", sum_of_elements)\n"
   ]
  },
  {
   "cell_type": "markdown",
   "id": "5138a551-f83f-4580-875e-83806935a27d",
   "metadata": {},
   "source": [
    "#Tuple Operations"
   ]
  },
  {
   "cell_type": "code",
   "execution_count": 10,
   "id": "59d4f08b-1032-4bb7-be25-4e2998d5b677",
   "metadata": {},
   "outputs": [
    {
     "name": "stdout",
     "output_type": "stream",
     "text": [
      "Even Numbers Tuple: (2, 4, 6, 8, 10)\n",
      "Product of Elements: 3840\n"
     ]
    }
   ],
   "source": [
    "# Step 1: Create a tuple containing the first five even numbers.\n",
    "even_numbers_tuple = (2, 4, 6, 8, 10)\n",
    "\n",
    "# Step 2: Find and print the product of all elements in the tuple.\n",
    "product_of_elements = 1  # Initialize the product to 1\n",
    "for num in even_numbers_tuple:\n",
    "    product_of_elements *= num\n",
    "\n",
    "# Display the results\n",
    "print(\"Even Numbers Tuple:\", even_numbers_tuple)\n",
    "print(\"Product of Elements:\", product_of_elements)\n"
   ]
  },
  {
   "cell_type": "markdown",
   "id": "31c7b6f9-1020-4f95-82f4-a40ce0a11ac8",
   "metadata": {},
   "source": [
    "#Set Operations"
   ]
  },
  {
   "cell_type": "code",
   "execution_count": 11,
   "id": "e3caaf11-546f-4a30-8ed8-316ed9cc5eb1",
   "metadata": {},
   "outputs": [
    {
     "name": "stdout",
     "output_type": "stream",
     "text": [
      "Odd Numbers Set 1: {1, 3, 5, 7, 9}\n",
      "Odd Numbers Set 2: {1, 3, 5, 7}\n",
      "Union of Sets: {1, 3, 5, 7, 9}\n",
      "Intersection of Sets: {1, 3, 5, 7}\n"
     ]
    }
   ],
   "source": [
    "# Step 1: Create two sets of odd numbers between 1 to 10.\n",
    "odd_numbers_set1 = {1, 3, 5, 7, 9}\n",
    "odd_numbers_set2 = {1, 3, 5, 7}\n",
    "\n",
    "# Step 2: Find and print the union of the two sets.\n",
    "union_of_sets = odd_numbers_set1.union(odd_numbers_set2)\n",
    "\n",
    "# Step 3: Find and print the intersection of the two sets.\n",
    "intersection_of_sets = odd_numbers_set1.intersection(odd_numbers_set2)\n",
    "\n",
    "# Display the results\n",
    "print(\"Odd Numbers Set 1:\", odd_numbers_set1)\n",
    "print(\"Odd Numbers Set 2:\", odd_numbers_set2)\n",
    "print(\"Union of Sets:\", union_of_sets)\n",
    "print(\"Intersection of Sets:\", intersection_of_sets)\n"
   ]
  },
  {
   "cell_type": "markdown",
   "id": "ce45f4e2-8249-46cf-8f64-f01d60638067",
   "metadata": {},
   "source": [
    "#Dictionary Operations"
   ]
  },
  {
   "cell_type": "code",
   "execution_count": 12,
   "id": "393de3b9-77e9-452c-83b4-79fb1be34657",
   "metadata": {},
   "outputs": [
    {
     "name": "stdout",
     "output_type": "stream",
     "text": [
      "Alphabet Dictionary: {'a': 97, 'b': 98, 'c': 99, 'd': 100, 'e': 101}\n"
     ]
    }
   ],
   "source": [
    "# Step 1: Create a dictionary with keys as lowercase alphabets and values as their ASCII values.\n",
    "alphabet_dict = {}\n",
    "for char in 'abcde':\n",
    "    alphabet_dict[char] = ord(char)\n",
    "\n",
    "# Display the dictionary\n",
    "print(\"Alphabet Dictionary:\", alphabet_dict)\n"
   ]
  },
  {
   "cell_type": "markdown",
   "id": "8223d043-8e0e-4eed-9569-27c57e1e548b",
   "metadata": {},
   "source": [
    "#Functional Programming:"
   ]
  },
  {
   "cell_type": "code",
   "execution_count": 13,
   "id": "fe737018-4d76-4e2f-859f-063adfba4a5d",
   "metadata": {},
   "outputs": [
    {
     "name": "stdout",
     "output_type": "stream",
     "text": [
      "Original Numbers: [1, 2, 3, 4, 5, 6, 7, 8, 9, 10]\n",
      "Squared Numbers: [1, 4, 9, 16, 25, 36, 49, 64, 81, 100]\n"
     ]
    }
   ],
   "source": [
    "# Step 1: Define the square function\n",
    "def square(x):\n",
    "    return x ** 2\n",
    "\n",
    "# Step 2: Create a list of integers from 1 to 10\n",
    "numbers = list(range(1, 11))\n",
    "\n",
    "# Step 3: Use the map function to apply the square function to each element in the list\n",
    "squared_numbers = list(map(square, numbers))\n",
    "\n",
    "# Display the result\n",
    "print(\"Original Numbers:\", numbers)\n",
    "print(\"Squared Numbers:\", squared_numbers)\n"
   ]
  },
  {
   "cell_type": "code",
   "execution_count": null,
   "id": "2d8cf580-8ae8-473b-981f-a476108ff428",
   "metadata": {},
   "outputs": [],
   "source": []
  }
 ],
 "metadata": {
  "kernelspec": {
   "display_name": "Python 3 (ipykernel)",
   "language": "python",
   "name": "python3"
  },
  "language_info": {
   "codemirror_mode": {
    "name": "ipython",
    "version": 3
   },
   "file_extension": ".py",
   "mimetype": "text/x-python",
   "name": "python",
   "nbconvert_exporter": "python",
   "pygments_lexer": "ipython3",
   "version": "3.11.7"
  }
 },
 "nbformat": 4,
 "nbformat_minor": 5
}
